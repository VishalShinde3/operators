{
  "nbformat": 4,
  "nbformat_minor": 0,
  "metadata": {
    "colab": {
      "provenance": [],
      "authorship_tag": "ABX9TyP4wWH4bI1oTpLmACYBKPHL",
      "include_colab_link": true
    },
    "kernelspec": {
      "name": "python3",
      "display_name": "Python 3"
    },
    "language_info": {
      "name": "python"
    }
  },
  "cells": [
    {
      "cell_type": "markdown",
      "metadata": {
        "id": "view-in-github",
        "colab_type": "text"
      },
      "source": [
        "<a href=\"https://colab.research.google.com/github/VishalShinde3/operators/blob/main/Untitled10.ipynb\" target=\"_parent\"><img src=\"https://colab.research.google.com/assets/colab-badge.svg\" alt=\"Open In Colab\"/></a>"
      ]
    },
    {
      "cell_type": "code",
      "execution_count": 1,
      "metadata": {
        "colab": {
          "base_uri": "https://localhost:8080/"
        },
        "id": "WvJuxbggm8fO",
        "outputId": "7735609c-496b-42c4-9371-a5d186bd9d47"
      },
      "outputs": [
        {
          "output_type": "stream",
          "name": "stdout",
          "text": [
            "6\n"
          ]
        }
      ],
      "source": [
        "# assignment operator\n",
        "x=5\n",
        "x=x+1\n",
        "print(x)"
      ]
    },
    {
      "cell_type": "code",
      "source": [
        "+"
      ],
      "metadata": {
        "id": "llURifn4nZ0o"
      },
      "execution_count": null,
      "outputs": []
    },
    {
      "cell_type": "code",
      "source": [
        "p=12\n",
        "q=34\n",
        "q+=p\n",
        "print(q)\n",
        "q-=p\n",
        "print(q)\n",
        "q/=p\n",
        "print(q)\n",
        "q%=p\n",
        "print(q)\n",
        "q*=p\n",
        "print(q)\n",
        "q**=p\n",
        "print(q)\n",
        "q//=p\n",
        "print(q)"
      ],
      "metadata": {
        "colab": {
          "base_uri": "https://localhost:8080/"
        },
        "id": "RDGjSBojnRtD",
        "outputId": "dd8710d8-32fa-46b7-c547-7f29d9395229"
      },
      "execution_count": 2,
      "outputs": [
        {
          "output_type": "stream",
          "name": "stdout",
          "text": [
            "46\n",
            "34\n",
            "2.8333333333333335\n",
            "2.8333333333333335\n",
            "34.0\n",
            "2.386420683693101e+18\n",
            "1.9886839030775843e+17\n"
          ]
        }
      ]
    },
    {
      "cell_type": "code",
      "source": [
        "#comparision operator\n",
        "a=10\n",
        "b=10\n",
        "c=a==b\n",
        "print(c)\n",
        "c=a!=b\n",
        "print(c)"
      ],
      "metadata": {
        "colab": {
          "base_uri": "https://localhost:8080/"
        },
        "id": "IzvLI5nsncAJ",
        "outputId": "db75a1d3-f7ec-4db1-ee1f-ddb065e02c93"
      },
      "execution_count": 5,
      "outputs": [
        {
          "output_type": "stream",
          "name": "stdout",
          "text": [
            "True\n",
            "False\n"
          ]
        }
      ]
    },
    {
      "cell_type": "code",
      "source": [
        "a=12\n",
        "b=10\n",
        "c=a<b\n",
        "print(c)\n",
        "d=a>b\n",
        "print(d)"
      ],
      "metadata": {
        "colab": {
          "base_uri": "https://localhost:8080/"
        },
        "id": "W2R6nX9xo-E6",
        "outputId": "9667859c-3c3a-4f1f-a39c-2a0f2c940abb"
      },
      "execution_count": 7,
      "outputs": [
        {
          "output_type": "stream",
          "name": "stdout",
          "text": [
            "False\n",
            "True\n"
          ]
        }
      ]
    }
  ]
}